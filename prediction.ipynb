{
 "cells": [
  {
   "cell_type": "code",
   "execution_count": 1,
   "metadata": {},
   "outputs": [],
   "source": [
    "# Step 1: Import Libraries and Load the Model\n",
    "import numpy as np\n",
    "import tensorflow as tf\n",
    "from tensorflow.keras.datasets import imdb\n",
    "from tensorflow.keras.preprocessing import sequence\n",
    "from tensorflow.keras.models import load_model"
   ]
  },
  {
   "cell_type": "code",
   "execution_count": 2,
   "metadata": {},
   "outputs": [],
   "source": [
    "\n",
    "# Load the IMDB dataset word index\n",
    "word_index = imdb.get_word_index()\n",
    "reverse_word_index = {value: key for key, value in word_index.items()}"
   ]
  },
  {
   "cell_type": "code",
   "execution_count": 3,
   "metadata": {},
   "outputs": [
    {
     "name": "stderr",
     "output_type": "stream",
     "text": [
      "WARNING:absl:Compiled the loaded model, but the compiled metrics have yet to be built. `model.compile_metrics` will be empty until you train or evaluate the model.\n"
     ]
    },
    {
     "data": {
      "text/html": [
       "<pre style=\"white-space:pre;overflow-x:auto;line-height:normal;font-family:Menlo,'DejaVu Sans Mono',consolas,'Courier New',monospace\"><span style=\"font-weight: bold\">Model: \"sequential\"</span>\n",
       "</pre>\n"
      ],
      "text/plain": [
       "\u001b[1mModel: \"sequential\"\u001b[0m\n"
      ]
     },
     "metadata": {},
     "output_type": "display_data"
    },
    {
     "data": {
      "text/html": [
       "<pre style=\"white-space:pre;overflow-x:auto;line-height:normal;font-family:Menlo,'DejaVu Sans Mono',consolas,'Courier New',monospace\">┏━━━━━━━━━━━━━━━━━━━━━━━━━━━━━━━━━┳━━━━━━━━━━━━━━━━━━━━━━━━┳━━━━━━━━━━━━━━━┓\n",
       "┃<span style=\"font-weight: bold\"> Layer (type)                    </span>┃<span style=\"font-weight: bold\"> Output Shape           </span>┃<span style=\"font-weight: bold\">       Param # </span>┃\n",
       "┡━━━━━━━━━━━━━━━━━━━━━━━━━━━━━━━━━╇━━━━━━━━━━━━━━━━━━━━━━━━╇━━━━━━━━━━━━━━━┩\n",
       "│ embedding (<span style=\"color: #0087ff; text-decoration-color: #0087ff\">Embedding</span>)           │ (<span style=\"color: #00af00; text-decoration-color: #00af00\">32</span>, <span style=\"color: #00af00; text-decoration-color: #00af00\">500</span>, <span style=\"color: #00af00; text-decoration-color: #00af00\">128</span>)         │     <span style=\"color: #00af00; text-decoration-color: #00af00\">1,280,000</span> │\n",
       "├─────────────────────────────────┼────────────────────────┼───────────────┤\n",
       "│ simple_rnn (<span style=\"color: #0087ff; text-decoration-color: #0087ff\">SimpleRNN</span>)          │ (<span style=\"color: #00af00; text-decoration-color: #00af00\">32</span>, <span style=\"color: #00af00; text-decoration-color: #00af00\">128</span>)              │        <span style=\"color: #00af00; text-decoration-color: #00af00\">32,896</span> │\n",
       "├─────────────────────────────────┼────────────────────────┼───────────────┤\n",
       "│ dense (<span style=\"color: #0087ff; text-decoration-color: #0087ff\">Dense</span>)                   │ (<span style=\"color: #00af00; text-decoration-color: #00af00\">32</span>, <span style=\"color: #00af00; text-decoration-color: #00af00\">1</span>)                │           <span style=\"color: #00af00; text-decoration-color: #00af00\">129</span> │\n",
       "└─────────────────────────────────┴────────────────────────┴───────────────┘\n",
       "</pre>\n"
      ],
      "text/plain": [
       "┏━━━━━━━━━━━━━━━━━━━━━━━━━━━━━━━━━┳━━━━━━━━━━━━━━━━━━━━━━━━┳━━━━━━━━━━━━━━━┓\n",
       "┃\u001b[1m \u001b[0m\u001b[1mLayer (type)                   \u001b[0m\u001b[1m \u001b[0m┃\u001b[1m \u001b[0m\u001b[1mOutput Shape          \u001b[0m\u001b[1m \u001b[0m┃\u001b[1m \u001b[0m\u001b[1m      Param #\u001b[0m\u001b[1m \u001b[0m┃\n",
       "┡━━━━━━━━━━━━━━━━━━━━━━━━━━━━━━━━━╇━━━━━━━━━━━━━━━━━━━━━━━━╇━━━━━━━━━━━━━━━┩\n",
       "│ embedding (\u001b[38;5;33mEmbedding\u001b[0m)           │ (\u001b[38;5;34m32\u001b[0m, \u001b[38;5;34m500\u001b[0m, \u001b[38;5;34m128\u001b[0m)         │     \u001b[38;5;34m1,280,000\u001b[0m │\n",
       "├─────────────────────────────────┼────────────────────────┼───────────────┤\n",
       "│ simple_rnn (\u001b[38;5;33mSimpleRNN\u001b[0m)          │ (\u001b[38;5;34m32\u001b[0m, \u001b[38;5;34m128\u001b[0m)              │        \u001b[38;5;34m32,896\u001b[0m │\n",
       "├─────────────────────────────────┼────────────────────────┼───────────────┤\n",
       "│ dense (\u001b[38;5;33mDense\u001b[0m)                   │ (\u001b[38;5;34m32\u001b[0m, \u001b[38;5;34m1\u001b[0m)                │           \u001b[38;5;34m129\u001b[0m │\n",
       "└─────────────────────────────────┴────────────────────────┴───────────────┘\n"
      ]
     },
     "metadata": {},
     "output_type": "display_data"
    },
    {
     "data": {
      "text/html": [
       "<pre style=\"white-space:pre;overflow-x:auto;line-height:normal;font-family:Menlo,'DejaVu Sans Mono',consolas,'Courier New',monospace\"><span style=\"font-weight: bold\"> Total params: </span><span style=\"color: #00af00; text-decoration-color: #00af00\">1,313,027</span> (5.01 MB)\n",
       "</pre>\n"
      ],
      "text/plain": [
       "\u001b[1m Total params: \u001b[0m\u001b[38;5;34m1,313,027\u001b[0m (5.01 MB)\n"
      ]
     },
     "metadata": {},
     "output_type": "display_data"
    },
    {
     "data": {
      "text/html": [
       "<pre style=\"white-space:pre;overflow-x:auto;line-height:normal;font-family:Menlo,'DejaVu Sans Mono',consolas,'Courier New',monospace\"><span style=\"font-weight: bold\"> Trainable params: </span><span style=\"color: #00af00; text-decoration-color: #00af00\">1,313,025</span> (5.01 MB)\n",
       "</pre>\n"
      ],
      "text/plain": [
       "\u001b[1m Trainable params: \u001b[0m\u001b[38;5;34m1,313,025\u001b[0m (5.01 MB)\n"
      ]
     },
     "metadata": {},
     "output_type": "display_data"
    },
    {
     "data": {
      "text/html": [
       "<pre style=\"white-space:pre;overflow-x:auto;line-height:normal;font-family:Menlo,'DejaVu Sans Mono',consolas,'Courier New',monospace\"><span style=\"font-weight: bold\"> Non-trainable params: </span><span style=\"color: #00af00; text-decoration-color: #00af00\">0</span> (0.00 B)\n",
       "</pre>\n"
      ],
      "text/plain": [
       "\u001b[1m Non-trainable params: \u001b[0m\u001b[38;5;34m0\u001b[0m (0.00 B)\n"
      ]
     },
     "metadata": {},
     "output_type": "display_data"
    },
    {
     "data": {
      "text/html": [
       "<pre style=\"white-space:pre;overflow-x:auto;line-height:normal;font-family:Menlo,'DejaVu Sans Mono',consolas,'Courier New',monospace\"><span style=\"font-weight: bold\"> Optimizer params: </span><span style=\"color: #00af00; text-decoration-color: #00af00\">2</span> (12.00 B)\n",
       "</pre>\n"
      ],
      "text/plain": [
       "\u001b[1m Optimizer params: \u001b[0m\u001b[38;5;34m2\u001b[0m (12.00 B)\n"
      ]
     },
     "metadata": {},
     "output_type": "display_data"
    }
   ],
   "source": [
    "# Load the pre-trained model with ReLU activation\n",
    "model = load_model('simple_rnn_imdb.h5')\n",
    "model.summary()"
   ]
  },
  {
   "cell_type": "code",
   "execution_count": 4,
   "metadata": {},
   "outputs": [
    {
     "data": {
      "text/plain": [
       "[array([[-1.5531558 ,  0.22583516, -0.39758098, ...,  0.03863585,\n",
       "         -0.37872863, -0.49518514],\n",
       "        [-0.13597757, -0.02059647, -0.10377682, ...,  0.11120577,\n",
       "          0.05095794,  0.05459752],\n",
       "        [-0.31237936, -0.07457961, -0.03288379, ..., -0.1312353 ,\n",
       "          0.06256477,  0.03905502],\n",
       "        ...,\n",
       "        [ 0.0580733 , -0.02431892, -0.05064917, ..., -0.02040825,\n",
       "          0.01881341,  0.03966708],\n",
       "        [-0.0757914 ,  0.02964121, -0.11016213, ..., -0.04963564,\n",
       "         -0.06501572,  0.03304298],\n",
       "        [ 0.03658673,  0.02315657, -0.12917933, ...,  0.09760026,\n",
       "         -0.00788018, -0.03949831]], dtype=float32),\n",
       " array([[ 0.06642953, -0.05867527,  0.11676724, ...,  0.10046931,\n",
       "          0.11040953, -0.02563084],\n",
       "        [-0.06398853,  0.05160476,  0.14565878, ...,  0.07813451,\n",
       "          0.146834  , -0.16129489],\n",
       "        [ 0.11360683,  0.09487025, -0.02220867, ..., -0.15695918,\n",
       "          0.03331514,  0.03625776],\n",
       "        ...,\n",
       "        [-0.18765529, -0.05327335,  0.13094635, ...,  0.11851017,\n",
       "          0.08792311,  0.05334073],\n",
       "        [ 0.07974201,  0.06190208, -0.05802318, ...,  0.02344198,\n",
       "         -0.04840356,  0.1282052 ],\n",
       "        [ 0.10076282,  0.02762959,  0.1610962 , ...,  0.07081589,\n",
       "          0.09460349, -0.08445955]], dtype=float32),\n",
       " array([[-0.16441266, -0.00995238, -0.0474772 , ...,  0.068607  ,\n",
       "         -0.08818323,  0.04006639],\n",
       "        [-0.05875069,  0.13779354,  0.0111347 , ...,  0.08564945,\n",
       "          0.03556747, -0.00299717],\n",
       "        [ 0.00913285, -0.12552324, -0.01591336, ..., -0.05012402,\n",
       "         -0.07141469,  0.06287561],\n",
       "        ...,\n",
       "        [-0.14016873,  0.03655117,  0.16961774, ...,  0.14741237,\n",
       "          0.10277919, -0.00612335],\n",
       "        [ 0.00267399, -0.05550683, -0.03380649, ..., -0.10548468,\n",
       "          0.01028721, -0.17014284],\n",
       "        [ 0.07175095,  0.10070305,  0.01547228, ...,  0.08623853,\n",
       "          0.03377004, -0.03186696]], dtype=float32),\n",
       " array([ 0.0088395 ,  0.0160615 , -0.02787852,  0.03164287,  0.02660237,\n",
       "        -0.0199418 , -0.02819636, -0.01958087,  0.02612516, -0.00184398,\n",
       "        -0.03063498, -0.05214991, -0.0276546 ,  0.04261293,  0.01982844,\n",
       "        -0.01354965,  0.00864751, -0.00190163, -0.02727861, -0.00770601,\n",
       "         0.03649797, -0.00891302, -0.03729383,  0.04416127,  0.03647906,\n",
       "        -0.04063623, -0.00095953, -0.0196652 , -0.0253335 , -0.04931679,\n",
       "        -0.04196558, -0.04094411, -0.01478298, -0.03561677, -0.03996103,\n",
       "        -0.0048776 , -0.02090755,  0.01559964, -0.02168661, -0.01657707,\n",
       "         0.01812259, -0.02730927, -0.01541072, -0.02112281, -0.02930828,\n",
       "        -0.02114666, -0.02367257, -0.03565333, -0.0377585 ,  0.00516735,\n",
       "         0.01346532,  0.0413994 , -0.04494029, -0.03313626,  0.00965175,\n",
       "        -0.00428859, -0.01685548,  0.02137916, -0.0199865 , -0.00792445,\n",
       "        -0.03613652, -0.03498495, -0.02553075,  0.01044032, -0.01164343,\n",
       "         0.00374651, -0.01373184,  0.01558306, -0.00261761, -0.03330821,\n",
       "        -0.00952292, -0.0071416 ,  0.01063869, -0.04309399, -0.04250877,\n",
       "        -0.01293426, -0.04934835, -0.00981268, -0.03675482,  0.03251845,\n",
       "        -0.0246614 , -0.04036618, -0.00390884, -0.01428522, -0.01653176,\n",
       "        -0.03158629, -0.01781529,  0.00668521,  0.00124779, -0.03953881,\n",
       "        -0.0023445 , -0.02899426,  0.02976802,  0.02647726, -0.01561769,\n",
       "        -0.00176151, -0.04203194, -0.03694053, -0.00178647, -0.0442948 ,\n",
       "         0.00109827, -0.00754984, -0.01191729, -0.03852745,  0.00540286,\n",
       "        -0.02487387, -0.03483152, -0.04844054, -0.08599856,  0.01961684,\n",
       "        -0.05039528,  0.02364299, -0.00823843, -0.01120907, -0.02206788,\n",
       "         0.00245516, -0.0349221 ,  0.02175098, -0.0060035 , -0.00542822,\n",
       "        -0.03129735, -0.07908142, -0.01498102, -0.02053706, -0.03237068,\n",
       "         0.01791717, -0.0437004 , -0.02700977], dtype=float32),\n",
       " array([[ 0.15000528],\n",
       "        [ 0.13627525],\n",
       "        [ 0.00865716],\n",
       "        [-0.13729016],\n",
       "        [-0.02425046],\n",
       "        [-0.18954638],\n",
       "        [ 0.04104692],\n",
       "        [ 0.14700776],\n",
       "        [-0.16737425],\n",
       "        [ 0.1678847 ],\n",
       "        [-0.13975447],\n",
       "        [ 0.09273404],\n",
       "        [ 0.18676642],\n",
       "        [ 0.04676228],\n",
       "        [ 0.00451118],\n",
       "        [ 0.05036314],\n",
       "        [-0.16475202],\n",
       "        [-0.28429168],\n",
       "        [-0.07227664],\n",
       "        [-0.10283508],\n",
       "        [-0.17231235],\n",
       "        [ 0.15548438],\n",
       "        [ 0.09447712],\n",
       "        [ 0.2185853 ],\n",
       "        [-0.11226122],\n",
       "        [-0.126975  ],\n",
       "        [ 0.14267991],\n",
       "        [ 0.12882753],\n",
       "        [ 0.3902692 ],\n",
       "        [ 0.0597079 ],\n",
       "        [-0.60221076],\n",
       "        [-0.11993266],\n",
       "        [ 0.03483112],\n",
       "        [ 0.02820518],\n",
       "        [ 0.10855308],\n",
       "        [-0.14504972],\n",
       "        [-0.19905062],\n",
       "        [-0.20727432],\n",
       "        [-0.28693983],\n",
       "        [ 0.11889946],\n",
       "        [-0.23125729],\n",
       "        [-0.12542485],\n",
       "        [-0.08689503],\n",
       "        [ 0.2013058 ],\n",
       "        [-0.12096874],\n",
       "        [ 0.1385634 ],\n",
       "        [-0.04644614],\n",
       "        [ 0.5756013 ],\n",
       "        [-0.06815856],\n",
       "        [ 0.06597277],\n",
       "        [-0.10788044],\n",
       "        [-0.19373517],\n",
       "        [ 0.31459594],\n",
       "        [-0.09545985],\n",
       "        [-0.16500476],\n",
       "        [-0.20037952],\n",
       "        [-0.11206915],\n",
       "        [ 0.02928788],\n",
       "        [-0.02171962],\n",
       "        [-0.19673951],\n",
       "        [-0.13309512],\n",
       "        [ 0.12711576],\n",
       "        [-0.17279847],\n",
       "        [-0.16986763],\n",
       "        [ 0.07343589],\n",
       "        [ 0.25817254],\n",
       "        [-0.17845435],\n",
       "        [-0.13173428],\n",
       "        [ 0.18204015],\n",
       "        [-0.04796512],\n",
       "        [ 0.23375015],\n",
       "        [-1.0510491 ],\n",
       "        [ 0.1932486 ],\n",
       "        [ 1.0042447 ],\n",
       "        [ 0.04345437],\n",
       "        [ 0.04012924],\n",
       "        [ 0.13358551],\n",
       "        [ 0.11037171],\n",
       "        [-0.01091217],\n",
       "        [-0.13421868],\n",
       "        [ 0.12314115],\n",
       "        [ 0.064802  ],\n",
       "        [-0.13672842],\n",
       "        [-0.08800063],\n",
       "        [ 0.16363966],\n",
       "        [ 0.17929648],\n",
       "        [ 0.06914549],\n",
       "        [ 0.09066908],\n",
       "        [ 0.14586335],\n",
       "        [-0.12010553],\n",
       "        [-0.18915263],\n",
       "        [ 0.03324468],\n",
       "        [ 0.1738366 ],\n",
       "        [-0.11383893],\n",
       "        [ 0.14197777],\n",
       "        [ 0.09242027],\n",
       "        [-0.14526342],\n",
       "        [ 0.05836863],\n",
       "        [-0.00838818],\n",
       "        [-0.18691447],\n",
       "        [-0.04557926],\n",
       "        [ 0.3039291 ],\n",
       "        [ 0.1052031 ],\n",
       "        [ 0.13027781],\n",
       "        [ 0.01206798],\n",
       "        [ 0.16263735],\n",
       "        [ 0.04916922],\n",
       "        [ 0.07760863],\n",
       "        [ 0.19544145],\n",
       "        [ 0.20602648],\n",
       "        [-0.04714328],\n",
       "        [ 0.18095537],\n",
       "        [-0.14525302],\n",
       "        [ 0.23749886],\n",
       "        [-0.27404162],\n",
       "        [-0.19177534],\n",
       "        [ 0.00684756],\n",
       "        [-0.2520995 ],\n",
       "        [-0.6440687 ],\n",
       "        [ 0.05159871],\n",
       "        [ 0.08878338],\n",
       "        [-0.05240626],\n",
       "        [ 0.17663299],\n",
       "        [-0.6088505 ],\n",
       "        [ 0.02104921],\n",
       "        [-0.20654663],\n",
       "        [ 0.37693983],\n",
       "        [-0.08874039]], dtype=float32),\n",
       " array([0.0058376], dtype=float32)]"
      ]
     },
     "execution_count": 4,
     "metadata": {},
     "output_type": "execute_result"
    }
   ],
   "source": [
    "model.get_weights()"
   ]
  },
  {
   "cell_type": "code",
   "execution_count": 5,
   "metadata": {},
   "outputs": [],
   "source": [
    "# Step 2: Helper Functions\n",
    "# Function to decode reviews\n",
    "def decode_review(encoded_review):\n",
    "    return ' '.join([reverse_word_index.get(i - 3, '?') for i in encoded_review])\n",
    "\n",
    "# Function to preprocess user input\n",
    "def preprocess_text(text):\n",
    "    words = text.lower().split()\n",
    "    encoded_review = [word_index.get(word, 2) + 3 for word in words]\n",
    "    padded_review = sequence.pad_sequences([encoded_review], maxlen=500)\n",
    "    return padded_review"
   ]
  },
  {
   "cell_type": "code",
   "execution_count": 6,
   "metadata": {},
   "outputs": [],
   "source": [
    "### Prediction  function\n",
    "\n",
    "def predict_sentiment(review):\n",
    "    preprocessed_input=preprocess_text(review)\n",
    "\n",
    "    prediction=model.predict(preprocessed_input)\n",
    "\n",
    "    sentiment = 'Positive' if prediction[0][0] > 0.5 else 'Negative'\n",
    "    \n",
    "    return sentiment, prediction[0][0]\n",
    "\n"
   ]
  },
  {
   "cell_type": "code",
   "execution_count": 7,
   "metadata": {},
   "outputs": [
    {
     "name": "stdout",
     "output_type": "stream",
     "text": [
      "\u001b[1m1/1\u001b[0m \u001b[32m━━━━━━━━━━━━━━━━━━━━\u001b[0m\u001b[37m\u001b[0m \u001b[1m0s\u001b[0m 180ms/step\n",
      "Review: This movie was fantastic! The acting was great and the plot was thrilling.\n",
      "Sentiment: Positive\n",
      "Prediction Score: 0.516576886177063\n"
     ]
    }
   ],
   "source": [
    "# Step 4: User Input and Prediction\n",
    "# Example review for prediction\n",
    "example_review = \"This movie was fantastic! The acting was great and the plot was thrilling.\"\n",
    "\n",
    "sentiment,score=predict_sentiment(example_review)\n",
    "\n",
    "print(f'Review: {example_review}')\n",
    "print(f'Sentiment: {sentiment}')\n",
    "print(f'Prediction Score: {score}')"
   ]
  },
  {
   "cell_type": "code",
   "execution_count": null,
   "metadata": {},
   "outputs": [],
   "source": []
  },
  {
   "cell_type": "code",
   "execution_count": null,
   "metadata": {},
   "outputs": [],
   "source": []
  },
  {
   "cell_type": "code",
   "execution_count": null,
   "metadata": {},
   "outputs": [],
   "source": []
  },
  {
   "cell_type": "code",
   "execution_count": null,
   "metadata": {},
   "outputs": [],
   "source": []
  }
 ],
 "metadata": {
  "kernelspec": {
   "display_name": "Python 3",
   "language": "python",
   "name": "python3"
  },
  "language_info": {
   "codemirror_mode": {
    "name": "ipython",
    "version": 3
   },
   "file_extension": ".py",
   "mimetype": "text/x-python",
   "name": "python",
   "nbconvert_exporter": "python",
   "pygments_lexer": "ipython3",
   "version": "3.11.0"
  }
 },
 "nbformat": 4,
 "nbformat_minor": 2
}
